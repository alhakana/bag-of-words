{
  "nbformat": 4,
  "nbformat_minor": 0,
  "metadata": {
    "colab": {
      "name": "Bag of words.ipynb",
      "provenance": [],
      "collapsed_sections": []
    },
    "kernelspec": {
      "name": "python3",
      "display_name": "Python 3"
    }
  },
  "cells": [
    {
      "cell_type": "markdown",
      "metadata": {
        "id": "29jRBtTkR9K2"
      },
      "source": [
        "# Paralelni algoritmi - drugi projekat\n",
        "\n",
        "- Projekat se radi individualno ili u paru\n",
        "\n",
        "- Rok za predaju projekata je ponedeljak 14.12.2020. Biće potrebno da se studenti koji planiraju da urade i odbrane projekat prijave, do datuma i procedurom koji će naknadno biti objavljeni.\n",
        "\n",
        "- Predaja projekata je putem emaila, programski kod bi trebalo da\n",
        "bude prikacen uz sam email. Link ka Collab-u je opcion. Ukoliko dva\n",
        "studenta rade u paru, dovoljno je da jedan od njih preda, pri cemu\n",
        "drugog stavi u cc. E-mail treba da sadrzi sve podatke (ime, prezime,\n",
        "broj indeksa) za oba studenta.\n",
        "\n",
        "\n",
        "1. **Pristup tekstu sa Wikipedije putem MapReduce programa (6 bodova)**  \n",
        "Napisati program koji kroz map-reduce paradigmu (upotrebom funkcije *map* iz Python standardne biblioteke i funkcije *reduce* iz paketa *functools*):\n",
        "  - Za zadatu listu ključnih reči vrši pretragu Wiki stranica i dohvata zadati broj rezultata (naslova stranica)\n",
        "    Za pristup wiki stranicama se može koristiti python biblioteku [*wikipedia*](https://pypi.org/project/wikipedia/):\n",
        "```python\n",
        "import wikipedia\n",
        "wikipedia.set_lang(\"sr\")\n",
        "```\n",
        "```python\n",
        "def get_pages(query, results=50):\n",
        "  '''Dohvata naslove zahtevanog broja stranica koje se pojavaljuju kao \n",
        "      rezultati pretrage za zadatu kljucnu rec'''\n",
        "      pages = wikipedia.search(query, results=results)\n",
        "      return pages\n",
        "```\n",
        "  - Paralelizovati rešenje iz prethodne tačke upotrebom funkcija `Pool.map` iz paketa `multiprocessing`\n",
        "  - Wikipedia API ponekad vrati nevalidne naslove stranica, pa je rezultate neophodno sanitizovati. Napisati map/reduce rešenje koje sanitizuje rezultate iz prethodne tačke. Sanitizacija se može izvesti pokušajem da dohvatanja stranice na osnovu nasova (`wikipedia.page(title)`) i hvatanjem izuzetaka.\n",
        "  - Napisati map/reduce rešenje koje dohvata sažetke stranica (`page.summary`) iz sanitizovane liste formirane u prethodnoj tački.\n",
        "  - Wikipedia API ponekad meša stranice na ćiriličnom i latiničnom pismu. Unifikovati tekstive dobijene u prethodnoj tački prevođenjem reči na isto pismo (ćirilično ili latinično)\n",
        "  ```python\n",
        "import transliterate\n",
        "transliterate.translit(word, 'sr')\n",
        "```\n",
        " - Odabrati nekoliko ključnih reči po slobodnom izboru i pokazati da program radi dohvatanjem po dva rezultata za svaku kljunu reč.\n",
        "\n",
        "2. **Brojanje reci u tesktu i bag-of-words reprezentacija putem MapReduce programa (8 bodova)**  \n",
        "U ovom zadatku ćemo stranice predstaviti kao *bag-of-words* vektore. *Bag-of-words* reprezentacija se dobija tako što za *sve** reči koje se pojavljuju u svim tekstovima izbrojimo koliko puta se pojavljuju u svakom tekstu. Tekst potom predstvaljamo kao vektor ovih brojeva.   \n",
        "Na primer, posmatrajmo dva teksta:\n",
        "``` \n",
        "Pera voli da gleda filmove. Mika takođe voli filmove.\n",
        "``` \n",
        "```\n",
        "Mika voli da gleda i fudbalske utakmice.\n",
        "```\n",
        "Reči koje se pojavljuju su:\n",
        "```\n",
        "Pera, voli, da, gleda, filmove, Mika, takođe, i, fudbalske, utakmice\n",
        "``` \n",
        "  *Bag-of-words* reprezentacija tekstova je:\n",
        "```\n",
        "1, 2, 1, 1, 2, 1, 1, 0, 0, 0\n",
        "```\n",
        "odnosno:\n",
        "```\n",
        "0, 1, 1, 1, 0, 1, 0, 1, 1, 1\n",
        "```\n",
        "U praksi se reči koje se previše često ili previše retko pojavljuju uglavnom odbacuju. \n",
        "  - Napisati map/reduce program koji datu listu tesktiva pretvara u *Bag-of-words* reprezentaciju. Pre brojanja reči potrebno je sve reči prevesti u mala ili velika slova (po vašem izboru), te izbaciti interpunkcijske znake i specijalne karaktere (u najmanju ruku sledeći skup `\\n, \\t, =, -, (, ), _`). Odbaciti reči koje se pojavljuju veoma često u većini tekstovima (nalaze se u 10% najčešćih reči u bar 90% tekstova), ili se pojavljuju u manje od 1% tekstova. Ovu obradu izvesti kroz posebne map/reduce korake.\n",
        "  - Ručno uneti nekoliko tekstova po slobodnom izboru i pokazati da program radi.\n",
        "\n",
        "3. **K-means klastersanje putem MapReduce programa (5 bodova)**   \n",
        "Napisati map/reduce program koji vrši k-means klasterisanje liste vektora.\n",
        "Nasumično generisati podatke iz nekoliko normalnih raspodela u dve dimenzije i pokazati da algoritam radi (videti vežbe za primer). \n",
        "\n",
        "4. **Primena rešenja  (6 bodova)**  \n",
        "Povezati kod iz zadataka 1-3 kojim se Wiki na srpskom jeziku pretražuje za sledeći skup ključnih reči `['Beograd', 'Prvi svetski rat', 'Protein', 'Mikroprocesor', 'Stefan Nemanja', 'Košarka']`, za svaku dohvata po 50 rezultata, stranice prevode u *bag-of-words* reprezentaciju, i vrši njihovo klasterisanje. \n",
        "U kojom meri klasteri odgovaraju temama prema kojima su stranice dohvatane?"
      ]
    },
    {
      "cell_type": "code",
      "metadata": {
        "colab": {
          "base_uri": "https://localhost:8080/"
        },
        "id": "i2IDZyKW3xcF",
        "outputId": "665e50d7-dd7c-4a77-d98b-2f7e4ad38efe"
      },
      "source": [
        "pip install wikipedia"
      ],
      "execution_count": 1,
      "outputs": [
        {
          "output_type": "stream",
          "name": "stdout",
          "text": [
            "Collecting wikipedia\n",
            "  Downloading wikipedia-1.4.0.tar.gz (27 kB)\n",
            "Requirement already satisfied: beautifulsoup4 in /usr/local/lib/python3.7/dist-packages (from wikipedia) (4.6.3)\n",
            "Requirement already satisfied: requests<3.0.0,>=2.0.0 in /usr/local/lib/python3.7/dist-packages (from wikipedia) (2.23.0)\n",
            "Requirement already satisfied: idna<3,>=2.5 in /usr/local/lib/python3.7/dist-packages (from requests<3.0.0,>=2.0.0->wikipedia) (2.10)\n",
            "Requirement already satisfied: certifi>=2017.4.17 in /usr/local/lib/python3.7/dist-packages (from requests<3.0.0,>=2.0.0->wikipedia) (2021.10.8)\n",
            "Requirement already satisfied: chardet<4,>=3.0.2 in /usr/local/lib/python3.7/dist-packages (from requests<3.0.0,>=2.0.0->wikipedia) (3.0.4)\n",
            "Requirement already satisfied: urllib3!=1.25.0,!=1.25.1,<1.26,>=1.21.1 in /usr/local/lib/python3.7/dist-packages (from requests<3.0.0,>=2.0.0->wikipedia) (1.24.3)\n",
            "Building wheels for collected packages: wikipedia\n",
            "  Building wheel for wikipedia (setup.py) ... \u001b[?25l\u001b[?25hdone\n",
            "  Created wheel for wikipedia: filename=wikipedia-1.4.0-py3-none-any.whl size=11695 sha256=cb435f363e8ba4b55191ecfc35f21187fddac8a1c2db7ce33e4dcc454017ef95\n",
            "  Stored in directory: /root/.cache/pip/wheels/15/93/6d/5b2c68b8a64c7a7a04947b4ed6d89fb557dcc6bc27d1d7f3ba\n",
            "Successfully built wikipedia\n",
            "Installing collected packages: wikipedia\n",
            "Successfully installed wikipedia-1.4.0\n"
          ]
        }
      ]
    },
    {
      "cell_type": "markdown",
      "metadata": {
        "id": "YWWwJejl3xEz"
      },
      "source": [
        ""
      ]
    },
    {
      "cell_type": "code",
      "metadata": {
        "colab": {
          "base_uri": "https://localhost:8080/"
        },
        "id": "LX-uNAKz4F_E",
        "outputId": "27447445-916e-432a-f2f6-f66c96b219a4"
      },
      "source": [
        "pip install transliterate"
      ],
      "execution_count": 2,
      "outputs": [
        {
          "output_type": "stream",
          "name": "stdout",
          "text": [
            "Collecting transliterate\n",
            "  Downloading transliterate-1.10.2-py2.py3-none-any.whl (45 kB)\n",
            "\u001b[?25l\r\u001b[K     |███████▏                        | 10 kB 15.5 MB/s eta 0:00:01\r\u001b[K     |██████████████▎                 | 20 kB 18.5 MB/s eta 0:00:01\r\u001b[K     |█████████████████████▌          | 30 kB 13.5 MB/s eta 0:00:01\r\u001b[K     |████████████████████████████▋   | 40 kB 10.6 MB/s eta 0:00:01\r\u001b[K     |████████████████████████████████| 45 kB 2.4 MB/s \n",
            "\u001b[?25hRequirement already satisfied: six>=1.1.0 in /usr/local/lib/python3.7/dist-packages (from transliterate) (1.15.0)\n",
            "Installing collected packages: transliterate\n",
            "Successfully installed transliterate-1.10.2\n"
          ]
        }
      ]
    },
    {
      "cell_type": "code",
      "metadata": {
        "id": "R4CNVn8Sb_9k",
        "colab": {
          "base_uri": "https://localhost:8080/"
        },
        "outputId": "31c2b823-feeb-459a-c38c-a05c56e386ca"
      },
      "source": [
        "import wikipedia as wk\n",
        "import transliterate as tr\n",
        "import functools as ft\n",
        "import multiprocessing as mp\n",
        "\n",
        "wk.set_lang(\"sr\")\n",
        "pool = mp.Pool(mp.cpu_count())\n",
        "words = [\"projekat\", \"paralelni\", \"algoritam\"]\n",
        "validated_titles = []\n",
        "\n",
        "def get_titles(words, results=2):\n",
        "  titles = wk.search(words, results=results)\n",
        "  return titles\n",
        "\n",
        "def validate_titles(array, title):\n",
        "  try:\n",
        "    wk.page(title)\n",
        "    array.append(title)\n",
        "    return array\n",
        "  except:\n",
        "    return array\n",
        "\n",
        "def summary(title):\n",
        "  return (title, wk.page(title).summary)\n",
        "\n",
        "def translate(title_summary):\n",
        "  title, summary = title_summary\n",
        "  return (tr.translit(title, 'sr'), tr.translit(summary, 'sr'))\n",
        "\n",
        "titles = pool.map(get_titles, words)\n",
        "for t in titles:\n",
        "  ft.reduce(validate_titles, t, validated_titles)\n",
        "translated_summaries = pool.map(translate, pool.map(summary, validated_titles))\n",
        "\n",
        "pool.close()\n",
        "pool.join()\n",
        "\n",
        "print(titles)\n",
        "print(validated_titles)\n",
        "print()\n",
        "for t in translated_summaries:\n",
        "  print(t)"
      ],
      "execution_count": 5,
      "outputs": [
        {
          "output_type": "stream",
          "name": "stdout",
          "text": [
            "[['Пројекат Менхетн', 'Пројекат Gutenberg'], ['Паралелни порт', 'Паралелно објектно-оријентисано програмирање'], ['Dajkstra-Soltenov algoritam', 'Apostoliko–Đankarlov algoritam']]\n",
            "['Пројекат Менхетн', 'Пројекат Gutenberg', 'Паралелни порт', 'Паралелно објектно-оријентисано програмирање', 'Dajkstra-Soltenov algoritam', 'Apostoliko–Đankarlov algoritam']\n",
            "\n",
            "('Пројекат Менхетн', 'Пројекат „Менхетн“ (енгл. Тхе Манхаттан Пројецт) представљао је рад научника из САД, УК и Канаде на развијању и прављењу нуклеарног оружја за време Другог светског рата. Пројекат су финансирале и надгледале владе споменутих држава.\\nВође пројекта су били генерал Лесли Гроувс и амерички физичар Роберт Опенхајмер.\\nОд 1942. до 1946. године пројекат је био под надзором Инжењерског корпуса америчке војске. (У.С. Армy Цорпс оф Енгинеерс). \\nПројекат се показао успешним на чувеном Тринити тесту, 16. јула 1945. године, тј. детонацијом код града Аламогордо у Новом Мексику.\\nНа пројекту „Менхетн“ је ангажовано око 130.000 људи. Коштао је око 2 милијарде америчких долара. Започет је још 1939. године на иницијативу тадашњих водећих научника који су наводно сумњали да нацисти већ развијају нуклеарно оружје.')\n",
            "('Пројекат Гутенберг', 'Пројект Гутенберг је пројекат који је започео Мајкл Харт 1971. године, са циљем да све књиге које су у јавном власништву пребаци у електронски облик. То је урадио са два циља:\\n\\nда их се на тај начин сачува, будући да папир труне\\nда буду доступне преко интернета свакоме кога занимају.У октобру 2017. године, на пројекту је доступно преко 54.000 бесплатних књига. На пројекту раде многи волонтери и свако ко жели, може да се прикључи пројекту. Да би неко учествовао у пројекту не мора имати ни књиге, ни скенер, ни ОЦР софтвер, довољна је добра воља. \\nГодине 2000. Чарлс Франкс покренуо је Пројект Гутенберг Дистрибутед Проофреадерс интернет странице, путем којих се може онлине помоћи пројекту. У претраживачу, након регистрације, појављује се прозор у коме се види скенирана слика странице, а доле препознат текст (могући лаyоут је такође слика лево, текст десно за оне са већим резолуцијама). \\nКрајем 2004. године пројекат је имао око 14.000 чланова, а они дневно „одраде“ просечно 5.000 страница. У октобру 2007. године, било је доступно преко 22.000 наслова. \\nСа пројекта се преузима 2.000.000 књига месечно.')\n",
            "('Паралелни порт', 'Паралелни порт је врста рачунарског порта који се раније углавном користио за повезивање принтера (штампача) са рачунарима.\\nОдатле се често назива и принтер порт, штампач порт, Центроникс порт (енгл. Центроницс, по некадашњем произвођачу штампача).\\nПорт се међутим може користити и за контролу уређаја, манипулацијом напонског нивоа индивидуалних пинова.\\nРаније је кориштен и за пренос фајлова између рачунара путем посебног Лаплинк кабла.\\nПридјев паралелни потиче од чињенице да порт шаље осам битова података штампачу (1 бајт) на осам паралелних линија, за разлику од серијског порта, који битове шаље један по један. Паралелним системом преноса се постиже већа брзина преноса података, али је потребно више жица у каблу.\\nНа ПЦ рачунарима, паралелни порт има ознаку ЛПТ1 или ЛПТ2.\\nТо је на рачунару 25-пински Д-конектор женског типа, а на принтеру 36-пински Центроникс Д-конектор женског типа.')\n",
            "('Паралелно објектно-оријентисано програмирање', 'Истовремено објектно оријентисано програмирањеје парадигма програмирања која комбинује објектно-оријентисано програмирање (ООП), заједно са паралелним. Док бројни програмски језици, као што су Јава, комбинују ООП са механизмима паралелности као нити, израз \"паралелно објектно оријентисано програмирање\" првенствено се односи на системе у којима објекти сами представљају паралелне примитиве, као када су објекти у комбинацији са глумцем моделом.')\n",
            "('Дајкстра-Солтенов алгоритам', 'Дајкстра Солтен алгоритам (назван по Едсгер W. Дијкстра и Ц. С. Сцхолтен) је алгоритам за налажење прекида у дистрибуираном систему. Алгоритам је предложен од стране Дијкстре и Солтена 1980. године.Прво, размотримо слуцај једноставног процеса графа који је стабло. Дистрибуиран прорачун који је стабло-структурисан није неуобичајен. Такав процес граф може настати када је израчунавање строго подели-и-владај типа. Чвор почиње обрачун и дели проблем у два (или висе, обично више од 2) поприлично једнака дела и дистрибуира те делове другим процесорима. Овај процес се наставља рекурзивно све док проблеми не буду доволно малих димензија да се реше једним процесором.')\n",
            "('Апостолико–Ђанкарлов алгоритам', 'У рачунарству, Апостолико–Ђанкарлов алгоритам је варијанта Бојер-Муровог алгоритма за тражење стринга, чија основна примена је тражење појављивања шаблона \\n  \\n    \\n      \\n        П\\n      \\n    \\n    {\\\\дисплаyстyле П}\\n   у тексту \\n  \\n    \\n      \\n        Т\\n      \\n    \\n    {\\\\дисплаyстyле Т}\\n  . Као и код других поређења на бази стринг претраге, ово се извршава тако што се \\n  \\n    \\n      \\n        Т\\n      \\n    \\n    {\\\\дисплаyстyле Т}\\n   намести на одређени индекс \\n  \\n    \\n      \\n        Т\\n      \\n    \\n    {\\\\дисплаyстyле Т}\\n   и проверава да ли постоји поклапање на том индексу. \\n  \\n    \\n      \\n        П\\n      \\n    \\n    {\\\\дисплаyстyле П}\\n   се онда помера до \\n  \\n    \\n      \\n        Т\\n      \\n    \\n    {\\\\дисплаyстyле Т}\\n   у складу са правилима Бојер-Мурвог алгоритма, и процес се понавља док се не дође до краја \\n  \\n    \\n      \\n        Т\\n      \\n    \\n    {\\\\дисплаyстyле Т}\\n  . Применом Бојер-Муровог померања обично доводи до тога да се велики делови текста прескачу.\\nШто се тиче операција померања, Апостолико–Ђанкарлов алгоритам је потпуно једнак по фунционалности са Бојер-Муровим алгоритмом. Корисност Апостолико–Ђанкарловог алгоритма је да се убрза операција проверавања поклапања индекса на било ком индексу. Са Бојер-Муром, тражење појављивања \\n  \\n    \\n      \\n        П\\n      \\n    \\n    {\\\\дисплаyстyле П}\\n   у \\n  \\n    \\n      \\n        Т\\n      \\n    \\n    {\\\\дисплаyстyле Т}\\n   захтева да се свих \\n  \\n    \\n      \\n        н\\n      \\n    \\n    {\\\\дисплаyстyле н}\\n   карактера из \\n  \\n    \\n      \\n        П\\n      \\n    \\n    {\\\\дисплаyстyле П}\\n   експлицитно поклапа. За одређене шаблоне и тексове, ово је врло неефикасно - прост пример је када се и шаблон и текст састоје из истог понављања карактера, у овом случају Бојер-Муров алгоритам има сложеност \\n  \\n    \\n      \\n        О\\n        (\\n        н\\n        м\\n        )\\n      \\n    \\n    {\\\\дисплаyстyле О(нм)}\\n   где је (матх)м(/матх) дужина карактера из \\n  \\n    \\n      \\n        Т\\n      \\n    \\n    {\\\\дисплаyстyле Т}\\n  . Апостолико–Ђанкарлов алгоритам убрзава ово тако сто чува број карактера који се поклапају на поравнатим местима из \\n  \\n    \\n      \\n        Т\\n      \\n    \\n    {\\\\дисплаyстyле Т}\\n   у табелу, и то се спаја са подацима скупљених током предпроцесирања \\n  \\n    \\n      \\n        П\\n      \\n    \\n    {\\\\дисплаyстyле П}\\n   да би се избегла сувишна поредјења секвенци карактера за које се зна да се поклапају.')\n"
          ]
        }
      ]
    },
    {
      "cell_type": "code",
      "metadata": {
        "id": "aR34fJV6X_y4",
        "colab": {
          "base_uri": "https://localhost:8080/"
        },
        "outputId": "0bd8410c-fb64-484f-dade-150a604e8e4b"
      },
      "source": [
        "from itertools import repeat\n",
        "\n",
        "words_in_texts = {}\n",
        "words_per_text = []\n",
        "final_words = []\n",
        "translated_summaries = [('filmove', 'Pera voli da gleda filmove. Mika takođe voli filmove a b c d e f g.'),\n",
        "                        ('utakmice', 'Mika voli da gleda i fudbalske utakmice voli k l m n.'),\n",
        "                        ('mika', 'Mika mika mika mika pera pera mika'),\n",
        "                        ('pera', 'Pera mika pera pera mika pera'),\n",
        "                        ('voli', 'pera voli mika mika voli pera'),\n",
        "                        ('da', 'pera da da mika mika da')]\n",
        "characters = ['\\n', '(', ')', '{', '}', '„', '“', '.', ',', '\\\\', '-', '\\t', '_', '\"']\n",
        "\n",
        "\n",
        "def clean_word(word):\n",
        "    for c in characters:\n",
        "        word = word.replace(c, '')\n",
        "    word.lower()\n",
        "    return word\n",
        "\n",
        "\n",
        "def find_words(current_words, title_summary):\n",
        "    for w in title_summary[1].split():\n",
        "        word = clean_word(w)\n",
        "        if word != '':\n",
        "            if word not in current_words:\n",
        "                current_words[word] = 0\n",
        "            current_words[word] += 1\n",
        "    return current_words\n",
        "\n",
        "\n",
        "def skip_if_common(acc, tup):\n",
        "    if tup[1] >= int(len(translated_summaries) * 0.9):\n",
        "        acc.append(tup[0])\n",
        "    return acc\n",
        "\n",
        "\n",
        "def skip_if_rare(acc, tup):\n",
        "    if tup[1] <= int(len(translated_summaries) * 0.01):\n",
        "        acc.append(tup[0])\n",
        "    return acc\n",
        "\n",
        "\n",
        "def map_func(elem):\n",
        "    word, words_dict = elem\n",
        "    return words_dict.get(word, 0)\n",
        "\n",
        "\n",
        "pool = mp.Pool(mp.cpu_count())\n",
        "\n",
        "all_words = ft.reduce(find_words, translated_summaries, {})\n",
        "\n",
        "print(all_words)\n",
        "top_words = {}\n",
        "for _, text in translated_summaries:\n",
        "    all_text_words = ft.reduce(find_words, [(_, text)], {})\n",
        "    words_per_text.append(all_text_words)\n",
        "    for word, _ in all_text_words.items():\n",
        "        if word not in words_in_texts:\n",
        "            words_in_texts[word] = 0\n",
        "        words_in_texts[word] += 1\n",
        "    top_ten = sorted([(k, v) for k, v in all_text_words.items()],\n",
        "                     key=lambda x: x[1], reverse=True)[:int(len(all_text_words) * 0.1)]\n",
        "    for word, _ in top_ten:\n",
        "        if word not in top_words:\n",
        "            top_words[word] = 0\n",
        "        top_words[word] += 1\n",
        "\n",
        "skip_words = ft.reduce(skip_if_common, top_words.items(), [])\n",
        "skip_words.extend(ft.reduce(skip_if_rare, words_in_texts.items(), []))\n",
        "print(f'Skipping words: {skip_words}')\n",
        "\n",
        "final_words = [key for key, val in all_words.items() if key not in skip_words]\n",
        "\n",
        "bags = []\n",
        "for i in range(len(words_per_text)):\n",
        "    bags.append(pool.map(map_func, zip(final_words, repeat(words_per_text[i]))))\n",
        "\n",
        "print(final_words)\n",
        "for b in bags:\n",
        "  print(b)"
      ],
      "execution_count": 6,
      "outputs": [
        {
          "output_type": "stream",
          "name": "stdout",
          "text": [
            "{'Pera': 2, 'voli': 6, 'da': 5, 'gleda': 2, 'filmove': 2, 'Mika': 3, 'takođe': 1, 'a': 1, 'b': 1, 'c': 1, 'd': 1, 'e': 1, 'f': 1, 'g': 1, 'i': 1, 'fudbalske': 1, 'utakmice': 1, 'k': 1, 'l': 1, 'm': 1, 'n': 1, 'mika': 10, 'pera': 8}\n",
            "Skipping words: []\n",
            "['Pera', 'voli', 'da', 'gleda', 'filmove', 'Mika', 'takođe', 'a', 'b', 'c', 'd', 'e', 'f', 'g', 'i', 'fudbalske', 'utakmice', 'k', 'l', 'm', 'n', 'mika', 'pera']\n",
            "[1, 2, 1, 1, 2, 1, 1, 1, 1, 1, 1, 1, 1, 1, 0, 0, 0, 0, 0, 0, 0, 0, 0]\n",
            "[0, 2, 1, 1, 0, 1, 0, 0, 0, 0, 0, 0, 0, 0, 1, 1, 1, 1, 1, 1, 1, 0, 0]\n",
            "[0, 0, 0, 0, 0, 1, 0, 0, 0, 0, 0, 0, 0, 0, 0, 0, 0, 0, 0, 0, 0, 4, 2]\n",
            "[1, 0, 0, 0, 0, 0, 0, 0, 0, 0, 0, 0, 0, 0, 0, 0, 0, 0, 0, 0, 0, 2, 3]\n",
            "[0, 2, 0, 0, 0, 0, 0, 0, 0, 0, 0, 0, 0, 0, 0, 0, 0, 0, 0, 0, 0, 2, 2]\n",
            "[0, 0, 3, 0, 0, 0, 0, 0, 0, 0, 0, 0, 0, 0, 0, 0, 0, 0, 0, 0, 0, 2, 1]\n"
          ]
        }
      ]
    },
    {
      "cell_type": "code",
      "metadata": {
        "id": "hdjJ9Wh6TG9C"
      },
      "source": [
        "import numpy as np\n",
        "import matplotlib.pyplot as plt\n",
        "\n",
        "n = 500\n",
        "\n",
        "data = -2 * np.random.rand(n, 2)\n",
        "data1 = 1 + 2 * np.random.rand(n // 5, 2)\n",
        "data2 = 0.5 + np.random.rand(n // 5, 2)\n",
        "data2[:, 0] = data2[:, 0] - 1\n",
        "data3 = 0.5 + np.random.rand(n // 5, 2)\n",
        "data3[:, 0] = (data3[:, 0] - 3)/1.5\n",
        "data3[:, 1] = data3[:, 1] * 2\n",
        "data4 = np.random.rand(n // 5, 2)\n",
        "data4[:, 0] = data4[:, 0] +2\n",
        "data4[:, 1] = data4[:, 1]-1\n",
        "data[n // 5 : 2 * (n // 5), :] = data1\n",
        "data[2 * (n // 5):3 * (n // 5), :] = data2\n",
        "data[3 * (n // 5):4 * (n // 5), :] = data3\n",
        "data[4 * (n // 5):5 * (n // 5), :] = data4\n",
        "\n",
        "\n",
        "pool = mp.Pool(mp.cpu_count())\n",
        "k = 5\n",
        "np.random.seed(523452)\n",
        "centroids = np.random.uniform(0, 3, (k, data[0].size))\n",
        "\n",
        "# print(centroids)\n",
        "# plt.scatter(data[ :, 0], data[ :, 1])\n",
        "# for c in centroids:\n",
        "#   plt.scatter(*c, marker='*', s=150)\n",
        "\n",
        "def point_distance(vector):\n",
        "  return math.sqrt()\n",
        "\n",
        "def calc_distance(vector):\n",
        "  vector, centroids = vector\n",
        "  return np.sqrt(((centroids -  vector)**2).sum(axis=1))\n",
        "\n",
        "def calc_cluster(distance):\n",
        "  return np.argmin(distance)\n",
        "\n",
        "def make_centroid_key(array, centroid):\n",
        "  kv = [1 + array[-1][0] if array else 0, centroid]\n",
        "  array.append(kv)\n",
        "  return array\n",
        "\n",
        "def make_cluster(centroid):\n",
        "  return [datapoint for j, datapoint in enumerate(data) if cluster_assignments[j] == centroid[0]]\n",
        "\n",
        "def make_new_centroids(centroid):\n",
        "    centroid, cluster = centroid\n",
        "    broj = centroid[1]\n",
        "\n",
        "    if len(cluster[centroid[0]]) == 0:\n",
        "        return centroid\n",
        "    if len(cluster[centroid[0]]) != 1:\n",
        "      centroid[1] = sum(cluster[centroid[0]]) / len(cluster[centroid[0]])\n",
        "    else:\n",
        "      centroid[1] = cluster[centroid[0]][0]\n",
        "    \n",
        "\n",
        "    return centroid\n",
        "  \n",
        "def pomf(x):\n",
        "  return x[1]\n",
        "\n",
        "cluster_assignments = []\n",
        "for _ in range(100):\n",
        "  cluster_assignments = np.zeros(data.shape[0], dtype=np.int8)\n",
        "\n",
        "  distance = pool.map(calc_distance, zip(data, repeat(centroids)))\n",
        "\n",
        "  cluster_assignments = pool.map(calc_cluster, distance)\n",
        "\n",
        "\n",
        "  centroid_keys = []\n",
        "  centroid_keys = ft.reduce(make_centroid_key, centroids, centroid_keys)\n",
        "\n",
        "  cluster = pool.map(make_cluster, centroid_keys)\n",
        "\n",
        "  from itertools import repeat\n",
        "  centroid_keys = pool.map(make_new_centroids, zip(centroid_keys, repeat(cluster)))\n",
        "  for i, c in centroid_keys:\n",
        "      centroids[i] = c\n",
        "\n",
        "cluster_assignments = np.zeros(data.shape[0], dtype=np.int8)\n",
        "\n",
        "distance = pool.map(calc_distance, zip(data, repeat(centroids)))\n",
        "cluster_assignments = pool.map(calc_cluster, distance)\n",
        "\n",
        "pool.close()\n",
        "pool.join()\n"
      ],
      "execution_count": 8,
      "outputs": []
    },
    {
      "cell_type": "code",
      "metadata": {
        "colab": {
          "base_uri": "https://localhost:8080/",
          "height": 371
        },
        "id": "-sOWKWmtUAqj",
        "outputId": "5acea3d0-48d2-4233-fee5-eb3ae61afee1"
      },
      "source": [
        "plt.scatter(data[ : , 0], data[ :, 1])\n",
        "for i, c in enumerate(centroids):\n",
        "  plot = plt.scatter(*c, marker='*', s=150)\n",
        "  cluster = [datapoint for j, datapoint in enumerate(data) if cluster_assignments[j] == i]\n",
        "  print(cluster)\n",
        "  cluster = np.array(cluster)\n",
        "  if len(cluster) == 0:\n",
        "    continue\n",
        "  plt.scatter(cluster[:, 0], cluster[:, 1], c=plot.get_facecolor())"
      ],
      "execution_count": 12,
      "outputs": [
        {
          "output_type": "stream",
          "name": "stdout",
          "text": [
            "[array([-1.50666571, -0.01234723]), array([-0.1136306 , -0.24726894]), array([-1.96260076, -1.94648891]), array([-1.94196339, -1.65579396]), array([-1.78446542, -1.13140517]), array([-1.12968585, -1.37290752]), array([-0.94620978, -1.2245688 ]), array([-1.18220108, -1.04468415]), array([-0.15984152, -0.53356857]), array([-0.99172942, -1.98926607]), array([-1.78969659, -1.695879  ]), array([-0.46469568, -0.41444696]), array([-1.47054816, -0.04159728]), array([-0.03324828, -1.87468787]), array([-1.84732378, -0.42676303]), array([-1.35268642, -1.8385848 ]), array([-0.89575129, -0.81603665]), array([-1.30145805, -0.64242628]), array([-0.72858659, -0.74863563]), array([-0.67804447, -0.27970283]), array([-0.70629373, -0.02459341]), array([-1.82603899, -1.37665034]), array([-1.11292431, -1.74293916]), array([-1.70316392, -0.39767019]), array([-1.48946111, -1.77401888]), array([-0.78454794, -1.36856907]), array([-1.58298347, -1.71283845]), array([-1.6427102 , -1.61030344]), array([-1.79475223, -1.64487586]), array([-1.06197873, -0.92584106]), array([-0.96742311, -0.67569744]), array([-1.34884021, -0.8667434 ]), array([-0.32966218, -0.61158971]), array([-1.40388163, -1.21991489]), array([-1.89599151, -0.27384958]), array([-1.09154479, -1.88630094]), array([-1.98733972, -1.45187439]), array([-0.88262272, -1.56593889]), array([-1.60352123, -0.51129041]), array([-0.327707  , -0.61255325]), array([-1.04443962, -1.71588669]), array([-0.79035288, -0.6094074 ]), array([-0.1073835 , -0.61605717]), array([-0.03640375, -1.29738568]), array([-1.47871925, -1.93589503]), array([-0.25410047, -0.77677754]), array([-1.61528613, -0.95545405]), array([-0.06698399, -1.02221638]), array([-1.53703503, -1.30977644]), array([-1.97326127, -1.60012399]), array([-1.46796912, -1.43998706]), array([-0.70955069, -0.72198245]), array([-1.89295878, -1.44329586]), array([-0.73734502, -1.08113639]), array([-1.74090582, -1.37359631]), array([-1.73626538, -0.37795582]), array([-0.03762538, -1.04053815]), array([-1.63011191, -1.93762333]), array([-0.00837207, -0.00301371]), array([-1.54805926, -0.0953401 ]), array([-1.8280155 , -1.95788799]), array([-0.33045215, -0.1830367 ]), array([-0.97097367, -0.44000084]), array([-1.26247875, -0.87081315]), array([-1.50964476, -0.69457396]), array([-0.86903358, -0.75746837]), array([-0.24010569, -0.95702335]), array([-0.43475432, -0.51545023]), array([-0.42437879, -0.27882401]), array([-0.54701126, -1.2170571 ]), array([-1.66228431, -1.80027544]), array([-1.52232371, -1.82130236]), array([-1.73457345, -1.74807228]), array([-1.82005293, -1.78017245]), array([-1.78874515, -1.94078053]), array([-1.82500915, -1.05557182]), array([-0.59885538, -0.44922358]), array([-1.23771566, -0.43983504]), array([-1.76127725, -1.62744438]), array([-0.51679474, -1.75485458]), array([-1.92079881, -1.67568844]), array([-0.97942627, -1.27141794]), array([-1.60701208, -0.43922236]), array([-1.05461981, -0.69379048]), array([-0.79759984, -1.69734977]), array([-0.57183451, -1.80624683]), array([-1.0230658 , -1.84944687]), array([-0.38769641, -0.41488282]), array([-0.91163908, -1.90218357]), array([-1.89393559, -0.32697077]), array([-0.20508622, -0.19385415]), array([-0.69899732, -0.37853258]), array([-0.02307239, -0.75220427]), array([-1.11965296, -0.39594665]), array([-1.66097612, -0.41653833]), array([-1.80123805, -1.57799603]), array([-0.38840273, -1.86749023]), array([-1.29406699, -0.62436141]), array([-0.88130359, -0.27546949]), array([-0.77628991, -0.20428753]), array([-0.24871311,  0.807195  ]), array([0.27338531, 0.80488093]), array([0.38620426, 0.64921031]), array([0.47999089, 0.84017185]), array([-0.01692366,  0.96009032]), array([0.16950681, 1.21123357]), array([-0.17726789,  0.52549751]), array([-0.13311423,  0.7041415 ]), array([-0.14593261,  1.24345937]), array([0.16165236, 0.5334372 ]), array([-0.16723397,  1.25546023]), array([0.30491732, 0.71409947]), array([-0.07049686,  1.29829627]), array([-0.17268284,  0.82453258]), array([0.13108853, 1.30678023]), array([-0.35896409,  0.99093974]), array([-0.47906906,  1.2819334 ]), array([-0.22789355,  0.96368638]), array([0.31924103, 1.38769245]), array([-0.21815402,  0.66503429]), array([-0.35446416,  1.005144  ]), array([0.15998781, 1.38919643]), array([-0.10962368,  1.4172172 ]), array([0.25959625, 0.82494485]), array([-0.242684  ,  1.40487734]), array([-0.05735205,  0.7290027 ]), array([-0.24123326,  0.90977792]), array([1.42065963e-04, 9.74082067e-01]), array([0.06634192, 0.90666084]), array([0.28904157, 0.69933422]), array([-0.14594598,  1.14607771]), array([0.20364009, 0.84619938]), array([-0.27426789,  0.74609408]), array([-0.20532182,  1.03593454]), array([-0.1787882 ,  1.29563182]), array([0.14454028, 1.04110182]), array([0.36019661, 1.35725948]), array([-0.32135728,  0.93021155]), array([-0.23470767,  1.34181796]), array([-0.23394588,  1.00033889]), array([-0.39950806,  0.94669054]), array([-0.14682066,  0.6703256 ]), array([0.00183615, 0.99316993]), array([0.09356016, 0.7532007 ]), array([-0.41998941,  1.01300519]), array([0.32322756, 1.28579813]), array([-0.19197836,  0.89409972]), array([0.20492413, 1.02688967]), array([0.3214993 , 1.46737009]), array([0.18617937, 1.190845  ]), array([-0.31185501,  1.46568334]), array([-0.44795541,  1.24436222]), array([-0.34421121,  1.33765952]), array([0.20818009, 0.58970154]), array([0.02545062, 0.83911453]), array([-0.28367459,  0.57839323]), array([-0.39281736,  0.65129644]), array([-0.0021472 ,  1.28085125]), array([-0.27841406,  0.80043298]), array([-0.42436643,  1.46942073]), array([0.49380579, 1.4168699 ]), array([-0.38317328,  1.4195999 ]), array([-0.42154659,  0.67982348]), array([0.19337613, 1.48267774]), array([0.35943828, 0.94568442]), array([-0.04001021,  0.69252581]), array([0.15119677, 0.59598286]), array([0.46398054, 1.17251944]), array([-0.34070328,  1.06156006]), array([-0.12822662,  0.81637023]), array([0.19543977, 0.50883384]), array([-0.25768294,  0.74881487]), array([-0.36198049,  1.21589411]), array([-0.27506132,  0.82374001]), array([-0.18840569,  0.77069033]), array([0.46873538, 0.67533325]), array([-0.06539804,  1.19272076]), array([0.15694987, 0.55838832]), array([-0.47081186,  1.18155544]), array([0.02408704, 0.66793691]), array([0.49788023, 1.16631486]), array([0.1685024 , 1.16316472]), array([0.3637321 , 1.03068736]), array([0.07051532, 0.91886407]), array([-0.01591361,  1.38545907]), array([-0.02151877,  0.77098326]), array([0.33588973, 1.14102832]), array([-0.04910107,  1.349383  ]), array([0.29504912, 1.49030375]), array([0.2150866 , 1.31977335]), array([0.01858409, 0.59374131]), array([-0.47643656,  0.65571291]), array([-0.35382976,  1.06636275]), array([-0.25237698,  1.45006035]), array([0.42510815, 1.08089003]), array([0.11011641, 0.51651064]), array([0.33551589, 1.48441132]), array([0.23552841, 0.5536619 ]), array([-0.21717067,  1.21310484]), array([0.45081343, 0.86941498]), array([-1.48551953,  2.33400474]), array([-1.65737897,  2.32642433]), array([-1.36652317,  2.59991714]), array([-1.46583556,  1.83903782]), array([-1.51218414,  2.56681855]), array([-1.246035  ,  1.03662048]), array([-1.52920928,  1.18663688]), array([-1.16289976,  1.59044421]), array([-1.21646467,  2.10820321]), array([-1.00643056,  2.46290068]), array([-1.16152075,  2.89203401]), array([-1.20438075,  1.55405646]), array([-1.24647738,  2.98590119]), array([-1.46449994,  1.18310991]), array([-1.01618154,  1.75561684]), array([-1.02459626,  1.22947307]), array([-1.51323248,  2.48657074]), array([-1.58183615,  2.24334522]), array([-1.59243926,  1.47202445]), array([-1.59537455,  2.85780552]), array([-1.38691327,  2.29355583]), array([-1.15748579,  1.46265924]), array([-1.24811835,  1.31027822]), array([-1.44569191,  1.11328239]), array([-1.53708742,  1.7812728 ]), array([-1.27913048,  1.47483324]), array([-1.49685532,  1.95614588]), array([-1.32290893,  1.84847178]), array([-1.41786707,  1.83883389]), array([-1.47062624,  1.6264293 ]), array([-1.0471392 ,  1.13796573]), array([-1.33801249,  2.7678661 ]), array([-1.39752743,  2.11697326]), array([-1.60693108,  1.6820903 ]), array([-1.34052723,  2.6839003 ]), array([-1.43985403,  2.92101332]), array([-1.01002397,  2.18127873]), array([-1.56935695,  1.34311942]), array([-1.56795483,  1.06465753]), array([-1.40370888,  1.20873169]), array([-1.54094645,  2.47456937]), array([-1.51326928,  2.26244552]), array([-1.04926763,  1.04537279]), array([-1.21283314,  1.17847989]), array([-1.51725147,  1.40388285]), array([-1.63183093,  2.07461295]), array([-1.33435612,  2.50331094]), array([-1.23297409,  2.65354872]), array([-1.07796877,  2.97849009]), array([-1.48852303,  2.11868312]), array([-1.16543078,  2.24473023]), array([-1.24617564,  1.68708381]), array([-1.03719442,  1.41518291]), array([-1.48129414,  2.48840559]), array([-1.44473315,  1.25581649]), array([-1.0681431 ,  1.84940174]), array([-1.03523475,  2.77295425]), array([-1.53355739,  1.92686857]), array([-1.63806483,  2.88744788]), array([-1.04142846,  1.96436049]), array([-1.65503897,  2.62920295]), array([-1.65750907,  2.60545743]), array([-1.58983934,  2.34470688]), array([-1.17891783,  1.76691863]), array([-1.31667343,  1.29787147]), array([-1.13313265,  2.28326103]), array([-1.159541  ,  1.04657465]), array([-1.26436811,  1.63001971]), array([-1.36406046,  2.74389139]), array([-1.05134599,  2.01633064]), array([-1.16669518,  2.09043557]), array([-1.05659533,  1.71191053]), array([-1.59814597,  2.88067459]), array([-1.49177738,  1.10116853]), array([-1.24751716,  2.68126017]), array([-1.15994635,  2.03106177]), array([-1.5212972 ,  1.86804387]), array([-1.4387462 ,  1.22619354]), array([-1.22875304,  2.18946352]), array([-1.06956588,  2.67387989]), array([-1.12148298,  2.61320829]), array([-1.13539569,  2.5146688 ]), array([-1.54452499,  1.48938588]), array([-1.14600323,  1.75063045]), array([-1.23064196,  1.50478908]), array([-1.18499127,  2.54630527]), array([-1.33966914,  2.84375449]), array([-1.11369928,  2.04532172]), array([-1.26149539,  1.26433492]), array([-1.49115077,  1.57046291]), array([-1.13130113,  2.2308869 ]), array([-1.60587635,  2.03127825]), array([-1.07949385,  1.25560749]), array([-1.53674194,  1.94588625]), array([-1.25939497,  2.69713575]), array([-1.10424438,  1.43518641]), array([-1.62566354,  1.26661936]), array([-1.57713933,  1.81095066]), array([-1.39265305,  1.02472467]), array([-1.37419834,  1.27312586])]\n",
            "[array([1.09274155, 2.60721404]), array([2.63532568, 2.53639766]), array([2.77515277, 2.72800591]), array([1.37836955, 2.475174  ]), array([1.2824821 , 2.54492143]), array([1.29878369, 2.84100818]), array([1.57507327, 2.5308253 ]), array([2.30228564, 2.19731079]), array([2.79951756, 2.39589865]), array([2.12482937, 2.29908893]), array([2.99855898, 2.74438379]), array([1.81211873, 2.68593984]), array([2.87212029, 2.40495829]), array([2.51169383, 2.37268605]), array([1.38819478, 2.61170807]), array([1.67514518, 2.80079954]), array([2.40751818, 2.24684801]), array([2.28783478, 2.24843271]), array([2.51241577, 2.54057204]), array([1.24148266, 2.66889281]), array([1.08857297, 2.71005928]), array([2.90332995, 2.55460034]), array([2.79026802, 2.54119605]), array([1.93017335, 2.96605898]), array([1.92662161, 2.27251445]), array([2.93062031, 2.60555225]), array([2.90573223, 2.25255843]), array([2.33178964, 2.51089954]), array([1.90753723, 2.69419296]), array([2.53543111, 2.34431885]), array([2.04348174, 2.92452999]), array([2.20108097, 2.41088137]), array([2.8920074 , 2.16698148]), array([2.59047895, 2.77976419]), array([1.03603472, 2.8003741 ]), array([1.44185207, 2.80387849]), array([2.24922078, 2.94609163]), array([2.1378136 , 2.46026795]), array([2.91444492, 2.26263568]), array([1.74885769, 2.30749299]), array([2.97817488, 2.10705284])]\n",
            "[array([2.10950135, 1.94431017]), array([2.15691662, 1.63166518]), array([2.82970091, 1.74744658]), array([2.3229547 , 1.70625947]), array([1.54402413, 1.93028396]), array([2.19439021, 2.04050797]), array([2.9051191 , 1.73407133]), array([1.03932084, 2.23561918]), array([2.57682529, 1.8218072 ]), array([1.99632282, 1.99807604]), array([2.05285943, 2.07687012]), array([2.23158387, 1.77619169]), array([2.70714552, 1.65824132]), array([2.34597818, 1.62714372]), array([1.77043897, 2.16686606]), array([1.40616702, 2.08561074]), array([2.76128522, 1.82983484]), array([1.51794754, 2.28458998]), array([2.77914997, 1.77679079]), array([1.09020885, 2.34978665]), array([1.48051646, 2.07259338]), array([2.96830844, 1.15416945]), array([1.99798019, 2.04910729]), array([2.34631649, 1.78144051]), array([2.53056102, 1.73614019]), array([2.02943295, 1.69636567]), array([2.24421739, 1.60700578]), array([2.27264006, 1.67999711]), array([2.63202021, 1.88788775])]\n",
            "[array([1.80709739, 1.22058892]), array([2.3411206 , 1.18084605]), array([1.73009676, 1.74454848]), array([1.11798379, 1.48717252]), array([1.57582404, 1.80152317]), array([2.28748204, 1.32683145]), array([2.53684276, 1.09448369]), array([2.58713792, 1.0635199 ]), array([2.34226176, 1.41395781]), array([1.68992548, 1.14631608]), array([1.09935766, 1.25801056]), array([1.42797941, 1.1914329 ]), array([1.07764372, 2.07113909]), array([1.95360507, 1.33553339]), array([2.17507271, 1.20942829]), array([1.85479897, 1.38026877]), array([2.61894009, 1.1025789 ]), array([1.14606545, 1.80962528]), array([1.37264479, 1.47781972]), array([1.03441835, 1.60417492]), array([2.22934095, 1.28310555]), array([1.28500687, 1.77871469]), array([2.08196908, 1.46835127]), array([1.18379361, 1.61228269]), array([1.5402722 , 1.50481306]), array([2.80274939, 1.08972064]), array([1.27317465, 1.82491496]), array([1.29666426, 1.40795314])]\n",
            "[array([1.65288895, 1.0053471 ]), array([1.26281224, 1.05327849]), array([ 2.24513998, -0.00234333]), array([ 2.83436184, -0.56447037]), array([ 2.96460742, -0.42892892]), array([ 2.68695012, -0.26549862]), array([ 2.18507409, -0.14770668]), array([ 2.0951461 , -0.10121952]), array([ 2.9368037 , -0.03149676]), array([ 2.07745913, -0.23041625]), array([ 2.08886563, -0.28208612]), array([ 2.85509359, -0.46482047]), array([ 2.02242709, -0.26006482]), array([ 2.18932845, -0.01847037]), array([ 2.66451387, -0.19748936]), array([ 2.88577898, -0.26642986]), array([ 2.07254103, -0.37100256]), array([ 2.73512195, -0.55087398]), array([ 2.35657817, -0.46803681]), array([ 2.20046451, -0.3640777 ]), array([ 2.31660368, -0.6632918 ]), array([ 2.24767597, -0.56855994]), array([ 2.64558862, -0.5864403 ]), array([ 2.56234706, -0.03601095]), array([ 2.7909107 , -0.55023895]), array([ 2.1639383 , -0.88700478]), array([ 2.74462371, -0.47592358]), array([ 2.78861692, -0.0659345 ]), array([ 2.30933109, -0.58403078]), array([ 2.71624869, -0.61195254]), array([ 2.21776694, -0.76398425]), array([ 2.01196147, -0.18021403]), array([ 2.26140975, -0.61830327]), array([ 2.99218092, -0.20375375]), array([ 2.73586431, -0.17664592]), array([ 2.52395172, -0.13168061]), array([ 2.79529047, -0.18855543]), array([ 2.20979925, -0.87242717]), array([ 2.91600273, -0.58137468]), array([ 2.4147003 , -0.37172838]), array([ 2.31370109, -0.82236962]), array([ 2.58584422, -0.60226177]), array([ 2.39891937, -0.02300994]), array([ 2.77488637, -0.76150931]), array([ 2.71202876, -0.02946428]), array([ 2.59742118, -0.16805603]), array([ 2.66593051, -0.61691171]), array([ 2.84369758, -0.1434656 ]), array([ 2.72288904, -0.70419268]), array([ 2.20226787, -0.47131655]), array([ 2.69125654, -0.96431575]), array([ 2.41822017, -0.44757943]), array([ 2.04427138, -0.66418462]), array([ 2.96128911, -0.92476698]), array([ 2.04442032, -0.63700969]), array([ 2.1716834 , -0.91355524]), array([ 2.92612731, -0.53280757]), array([ 2.83734973, -0.18711831]), array([ 2.1688468 , -0.57243338]), array([ 2.40834833, -0.00880334]), array([ 2.25277459, -0.95551451]), array([ 2.76266301, -0.29387236]), array([ 2.88588666, -0.69986492]), array([ 2.18299228, -0.14643796]), array([ 2.47894083, -0.19675673]), array([ 2.16551944, -0.93096321]), array([ 2.27065069, -0.8370519 ]), array([ 2.47790738, -0.47439876]), array([ 2.97073304, -0.81342375]), array([ 2.37295425, -0.25933245]), array([ 2.73374238, -0.59625311]), array([ 2.35845171, -0.82323352]), array([ 2.84591479, -0.09340254]), array([ 2.95991379, -0.98978969]), array([ 2.85826546, -0.96376427]), array([ 2.49127247, -0.00268108]), array([ 2.02736865, -0.35995534]), array([ 2.03935116, -0.94557963]), array([ 2.39720865, -0.47891383]), array([ 2.58960658, -0.51296999]), array([ 2.78658635, -0.67133385]), array([ 2.26388674, -0.89793721]), array([ 2.93534002, -0.82800712]), array([ 2.06080231, -0.73539816]), array([ 2.20847714, -0.54779959]), array([ 2.75987764, -0.65812828]), array([ 2.24314424, -0.19862356]), array([ 2.02865331, -0.33729309]), array([ 2.30662801, -0.15265514]), array([ 2.84037875, -0.23163827]), array([ 2.63151098, -0.9004626 ]), array([ 2.53693623, -0.3605199 ]), array([ 2.84156805, -0.34424552]), array([ 2.07627595, -0.89986949]), array([ 2.30443522, -0.58737996]), array([ 2.77314972, -0.70419929]), array([ 2.47563807, -0.00321222]), array([ 2.25440539, -0.56157547]), array([ 2.44872393, -0.5060958 ]), array([ 2.32621241, -0.88149731]), array([ 2.78411082, -0.31729655]), array([ 2.22804155, -0.33498314])]\n"
          ]
        },
        {
          "output_type": "display_data",
          "data": {
            "text/plain": [
              "<Figure size 432x288 with 1 Axes>"
            ],
            "image/png": "[encoded data removed]"
          },
          "metadata": {
            "needs_background": "light"
          }
        }
      ]
    }
  ]
}